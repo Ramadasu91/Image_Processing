{
 "cells": [
  {
   "cell_type": "markdown",
   "id": "c7ea8c7f",
   "metadata": {},
   "source": [
    "## Capturing Video using Web Cam"
   ]
  },
  {
   "cell_type": "code",
   "execution_count": 1,
   "id": "55437a91",
   "metadata": {},
   "outputs": [],
   "source": [
    "import numpy as np\n",
    "import matplotlib.pyplot as plt\n",
    "import cv2 as cv"
   ]
  },
  {
   "cell_type": "code",
   "execution_count": null,
   "id": "f0e0760b",
   "metadata": {},
   "outputs": [],
   "source": [
    "cam=cv.VideoCapture(0)\n",
    "while True:\n",
    "    _,img=cam.read()\n",
    "    cv.imshow('Frame',img)\n",
    "    \n",
    "    key=cv.waitKey(1)\n",
    "    if(key==27):\n",
    "        cam.release()\n",
    "        break"
   ]
  },
  {
   "cell_type": "markdown",
   "id": "79926269",
   "metadata": {},
   "source": [
    "## Flipping the image"
   ]
  },
  {
   "cell_type": "code",
   "execution_count": null,
   "id": "6c7e2a09",
   "metadata": {},
   "outputs": [],
   "source": [
    "cam=cv.VideoCapture(0)\n",
    "while True:\n",
    "    _,img=cam.read()\n",
    "    \n",
    "     #horizontal flip\n",
    "    hori=cv.flip(img,1)\n",
    "    cv.imshow(\"horizontal\",hori)\n",
    "    key=cv.waitKey(0)\n",
    "    if(key==27):\n",
    "        cam.release()\n",
    "        break"
   ]
  },
  {
   "cell_type": "code",
   "execution_count": null,
   "id": "24f5cf5c",
   "metadata": {},
   "outputs": [],
   "source": [
    "cam=cv.VideoCapture(0)\n",
    "while True:\n",
    "    _,img=cam.read()\n",
    "    \n",
    "     #vertical flip\n",
    "    hori=cv.flip(img,0)\n",
    "    cv.imshow(\"horizontal\",hori)\n",
    "    key=cv.waitKey(0)\n",
    "    if(key==27):\n",
    "        cam.release()\n",
    "        break"
   ]
  },
  {
   "cell_type": "markdown",
   "id": "ca0de798",
   "metadata": {},
   "source": [
    "## Cropping "
   ]
  },
  {
   "cell_type": "code",
   "execution_count": null,
   "id": "4fbae9be",
   "metadata": {},
   "outputs": [],
   "source": [
    "cam=cv.VideoCapture(0)\n",
    "while True:\n",
    "    _,img=cam.read()\n",
    "    \n",
    "    crop=img[100:500,300:800,:]\n",
    "    cv.imshow(\"cropped\",crop)\n",
    "    key=cv.waitKey(0)\n",
    "    if(key==27):\n",
    "        cam.release()\n",
    "        break"
   ]
  },
  {
   "cell_type": "markdown",
   "id": "6c7a1cec",
   "metadata": {},
   "source": [
    "## HSV & Frame Extraction"
   ]
  },
  {
   "cell_type": "code",
   "execution_count": null,
   "id": "6a6980ca",
   "metadata": {},
   "outputs": [],
   "source": [
    "cam=cv.VideoCapture(0)\n",
    "while True:\n",
    "    _,img=cam.read()\n",
    "    \n",
    "    hsv=cv.cvtColor(img,cv.COLOR_BGR2HSV)\n",
    "    \n",
    "    h=hsv[:,:,0]\n",
    "    s=hsv[:,:,1]\n",
    "    v=hsv[:,:,2]\n",
    "    \n",
    "    cv.imshow(\"hsv\",hsv)\n",
    "    cv.imshow(\"h\",h)\n",
    "    cv.imshow(\"s\",s)\n",
    "    cv.imshow(\"v\",v)\n",
    "    \n",
    "    key=cv.waitKey(0)\n",
    "    if(key==27):\n",
    "        cam.release()\n",
    "        break"
   ]
  },
  {
   "cell_type": "markdown",
   "id": "daeb9446",
   "metadata": {},
   "source": [
    "### Below code is working well & capturing continues images(video)"
   ]
  },
  {
   "cell_type": "code",
   "execution_count": null,
   "id": "73c98a45",
   "metadata": {},
   "outputs": [],
   "source": [
    "cam = cv.VideoCapture(0)\n",
    "\n",
    "while True:\n",
    "    _, img = cam.read()\n",
    "    cv.imshow('Frame', img)\n",
    "\n",
    "    # Check for a key press (no wait)\n",
    "    key = cv.waitKey(1)\n",
    "\n",
    "    # Break the loop if the Esc key is pressed\n",
    "    if key == 27:\n",
    "        break\n",
    "\n",
    "# Release the camera when the loop is exited\n",
    "cam.release()\n",
    "cv.destroyAllWindows()"
   ]
  },
  {
   "cell_type": "code",
   "execution_count": null,
   "id": "e5fbf615",
   "metadata": {},
   "outputs": [],
   "source": []
  }
 ],
 "metadata": {
  "kernelspec": {
   "display_name": "Python 3 (ipykernel)",
   "language": "python",
   "name": "python3"
  },
  "language_info": {
   "codemirror_mode": {
    "name": "ipython",
    "version": 3
   },
   "file_extension": ".py",
   "mimetype": "text/x-python",
   "name": "python",
   "nbconvert_exporter": "python",
   "pygments_lexer": "ipython3",
   "version": "3.11.5"
  }
 },
 "nbformat": 4,
 "nbformat_minor": 5
}
