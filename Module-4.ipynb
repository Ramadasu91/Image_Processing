{
 "cells": [
  {
   "cell_type": "code",
   "execution_count": 6,
   "id": "959cd739",
   "metadata": {},
   "outputs": [],
   "source": [
    "import cv2 as cv"
   ]
  },
  {
   "cell_type": "markdown",
   "id": "c6d62dc5",
   "metadata": {},
   "source": [
    "## Selfie With OpenCv"
   ]
  },
  {
   "cell_type": "code",
   "execution_count": 10,
   "id": "e04b0f64",
   "metadata": {},
   "outputs": [],
   "source": [
    "cam=cv.VideoCapture(0)\n",
    "while True:\n",
    "    _,img=cam.read()\n",
    "    \n",
    "    img=cv.flip(img,1)\n",
    "    \n",
    "    gray=cv.cvtColor(img,cv.COLOR_RGB2GRAY)\n",
    "    hsv=cv.cvtColor(img,cv.COLOR_RGB2HSV)\n",
    "    \n",
    "    cv.imshow('Frame',img)\n",
    "    key=cv.waitKey(1)\n",
    "    \n",
    "    if(key==13):\n",
    "        cv.imwrite('selfie.png',img)\n",
    "        cv.imwrite('gray_selfie.png',gray)\n",
    "        cv.imwrite('hsv_selfie.png',hsv)\n",
    "        break\n",
    "cam.release()\n",
    "cv.destroyAllWindows()"
   ]
  },
  {
   "cell_type": "markdown",
   "id": "fa1468a9",
   "metadata": {},
   "source": [
    "## Multiple selfies with OpenCv"
   ]
  },
  {
   "cell_type": "code",
   "execution_count": 11,
   "id": "f6db3248",
   "metadata": {},
   "outputs": [],
   "source": [
    "c=1\n",
    "cam=cv.VideoCapture(0)\n",
    "while True:\n",
    "    _,img=cam.read()\n",
    "    \n",
    "    img=cv.flip(img,1)\n",
    "    \n",
    "    gray=cv.cvtColor(img,cv.COLOR_RGB2GRAY)\n",
    "    hsv=cv.cvtColor(img,cv.COLOR_RGB2HSV)\n",
    "    \n",
    "    cv.imshow('Frame',img)\n",
    "    key=cv.waitKey(1)\n",
    "    \n",
    "    if(key==13):\n",
    "        cv.imwrite('selfie_'+str(c)+'.png',img)\n",
    "        cv.imwrite('gray_selfie_'+str(c)+'.png',gray)\n",
    "        cv.imwrite('hsv_selfie_'+str(c)+'.png',hsv)\n",
    "        c+=1\n",
    "        \n",
    "    if(key==27):\n",
    "        break\n",
    "cam.release()\n",
    "cv.destroyAllWindows()"
   ]
  },
  {
   "cell_type": "code",
   "execution_count": null,
   "id": "4409750f",
   "metadata": {},
   "outputs": [],
   "source": []
  }
 ],
 "metadata": {
  "kernelspec": {
   "display_name": "Python 3 (ipykernel)",
   "language": "python",
   "name": "python3"
  },
  "language_info": {
   "codemirror_mode": {
    "name": "ipython",
    "version": 3
   },
   "file_extension": ".py",
   "mimetype": "text/x-python",
   "name": "python",
   "nbconvert_exporter": "python",
   "pygments_lexer": "ipython3",
   "version": "3.11.5"
  }
 },
 "nbformat": 4,
 "nbformat_minor": 5
}
