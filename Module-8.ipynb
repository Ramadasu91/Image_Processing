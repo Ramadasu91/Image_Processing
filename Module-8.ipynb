{
 "cells": [
  {
   "cell_type": "code",
   "execution_count": 1,
   "id": "b2568340",
   "metadata": {},
   "outputs": [],
   "source": [
    "import numpy as np\n",
    "import matplotlib.pyplot as plt\n",
    "import cv2 as cv"
   ]
  },
  {
   "cell_type": "markdown",
   "id": "30fcdcaa",
   "metadata": {},
   "source": [
    "## Adding Logo  to a Live Video"
   ]
  },
  {
   "cell_type": "code",
   "execution_count": 2,
   "id": "ccf7eadf",
   "metadata": {},
   "outputs": [],
   "source": [
    "cam=cv.VideoCapture(0)\n",
    "logo=cv.imread('cricket_logo.jpeg')\n",
    "_,img=cam.read()"
   ]
  },
  {
   "cell_type": "code",
   "execution_count": 2,
   "id": "f7ea92bd",
   "metadata": {},
   "outputs": [
    {
     "ename": "NameError",
     "evalue": "name 'cv' is not defined",
     "output_type": "error",
     "traceback": [
      "\u001b[1;31m---------------------------------------------------------------------------\u001b[0m",
      "\u001b[1;31mNameError\u001b[0m                                 Traceback (most recent call last)",
      "Cell \u001b[1;32mIn[2], line 1\u001b[0m\n\u001b[1;32m----> 1\u001b[0m cam\u001b[38;5;241m=\u001b[39mcv\u001b[38;5;241m.\u001b[39mVideoCapture(\u001b[38;5;241m0\u001b[39m)\n\u001b[0;32m      2\u001b[0m logo\u001b[38;5;241m=\u001b[39mcv\u001b[38;5;241m.\u001b[39mimread(\u001b[38;5;124m'\u001b[39m\u001b[38;5;124mcricket_logo.jpeg\u001b[39m\u001b[38;5;124m'\u001b[39m)\n\u001b[0;32m      3\u001b[0m \u001b[38;5;28;01mwhile\u001b[39;00m \u001b[38;5;28;01mTrue\u001b[39;00m:\n",
      "\u001b[1;31mNameError\u001b[0m: name 'cv' is not defined"
     ]
    }
   ],
   "source": [
    "cam=cv.VideoCapture(0)\n",
    "logo=cv.imread('cricket_logo.jpeg')\n",
    "while True:\n",
    "    _,img=cam.read()\n",
    "    img=cv.flip(img,1)\n",
    "    img[10:231,402:640]=logo\n",
    "    \n",
    "    cv.imshow(\"logo\",img)\n",
    "    key=cv.waitKey(1)\n",
    "    if(key==27):\n",
    "        cam.release()\n",
    "        break\n",
    "    "
   ]
  },
  {
   "cell_type": "code",
   "execution_count": 3,
   "id": "a02d9a59",
   "metadata": {},
   "outputs": [
    {
     "data": {
      "text/plain": [
       "(221, 228, 3)"
      ]
     },
     "execution_count": 3,
     "metadata": {},
     "output_type": "execute_result"
    }
   ],
   "source": [
    "logo.shape"
   ]
  },
  {
   "cell_type": "code",
   "execution_count": 4,
   "id": "c47c7069",
   "metadata": {},
   "outputs": [
    {
     "data": {
      "text/plain": [
       "(480, 640, 3)"
      ]
     },
     "execution_count": 4,
     "metadata": {},
     "output_type": "execute_result"
    }
   ],
   "source": [
    "img.shape"
   ]
  },
  {
   "cell_type": "code",
   "execution_count": 5,
   "id": "eda4a577",
   "metadata": {},
   "outputs": [
    {
     "data": {
      "text/plain": [
       "228"
      ]
     },
     "execution_count": 5,
     "metadata": {},
     "output_type": "execute_result"
    }
   ],
   "source": [
    "640-412"
   ]
  },
  {
   "cell_type": "markdown",
   "id": "a430ee85",
   "metadata": {},
   "source": [
    "## Aspect Ratio\n",
    "Height(margin=2%,logo=47%,vacant=52%)\n",
    "width(margin=64%,logo=36%,vacant=1%)"
   ]
  },
  {
   "cell_type": "markdown",
   "id": "2a9eb5d6",
   "metadata": {},
   "source": [
    "## Top-Right "
   ]
  },
  {
   "cell_type": "code",
   "execution_count": null,
   "id": "218239b1",
   "metadata": {},
   "outputs": [],
   "source": [
    "cam=cv.VideoCapture(0)\n",
    "logo=cv.imread('cricket_logo.jpeg')\n",
    "while True:\n",
    "    _,img=cam.read()\n",
    "    img=cv.flip(img,1)\n",
    "    \n",
    "    ht=img.shape[0]\n",
    "    wt=img.shape[1]\n",
    "    \n",
    "    margin_top=int((ht/100)*2)\n",
    "    logo_ht=int((ht/100)*47)\n",
    "    margin_left=int((wt/100)*64)\n",
    "    logo_wt=int((wt/100)*36)\n",
    "    \n",
    "    logo=cv.resize(logo,(logo_wt,logo_ht))\n",
    "    img[margin_top:logo_ht+margin_top,margin_left:logo_wt+margin_left]=logo\n",
    "    \n",
    "    cv.imshow(\"logo\",img)\n",
    "    key=cv.waitKey(1)\n",
    "    if(key==27):\n",
    "        cam.release()\n",
    "        break\n",
    "    "
   ]
  },
  {
   "cell_type": "markdown",
   "id": "89e23f04",
   "metadata": {},
   "source": [
    "## Top-Left\n",
    "Height(margin=2%,logo=47%,vacant=52%) width(margin=1%,logo=36%,vacant=64%)"
   ]
  },
  {
   "cell_type": "code",
   "execution_count": null,
   "id": "1dc9d852",
   "metadata": {},
   "outputs": [],
   "source": [
    "cam=cv.VideoCapture(0)\n",
    "logo=cv.imread('cricket_logo.jpeg')\n",
    "while True:\n",
    "    _,img=cam.read()\n",
    "    img=cv.flip(img,1)\n",
    "    \n",
    "    ht=img.shape[0]\n",
    "    wt=img.shape[1]\n",
    "    \n",
    "    margin_top=int((ht/100)*2)\n",
    "    logo_ht=int((ht/100)*47)\n",
    "    margin_left=int((wt/100)*1)\n",
    "    logo_wt=int((wt/100)*36)\n",
    "    \n",
    "    logo=cv.resize(logo,(logo_wt,logo_ht))\n",
    "    img[margin_top:logo_ht+margin_top,margin_left:logo_wt+margin_left]=logo\n",
    "    \n",
    "    cv.imshow(\"logo\",img)\n",
    "    key=cv.waitKey(1)\n",
    "    if(key==27):\n",
    "        cam.release()\n",
    "        break\n",
    "    "
   ]
  },
  {
   "cell_type": "markdown",
   "id": "73aa3dba",
   "metadata": {},
   "source": [
    "## Bottom-Left\n",
    "Height(margin=52%,logo=47%,vacant=2%) width(margin=1%,logo=36%,vacant=64%)"
   ]
  },
  {
   "cell_type": "code",
   "execution_count": null,
   "id": "b5deae6a",
   "metadata": {},
   "outputs": [],
   "source": [
    "cam=cv.VideoCapture(0)\n",
    "logo=cv.imread('cricket_logo.jpeg')\n",
    "while True:\n",
    "    _,img=cam.read()\n",
    "    img=cv.flip(img,1)\n",
    "    \n",
    "    ht=img.shape[0]\n",
    "    wt=img.shape[1]\n",
    "    \n",
    "    margin_top=int((ht/100)*52)\n",
    "    logo_ht=int((ht/100)*47)\n",
    "    margin_left=int((wt/100)*1)\n",
    "    logo_wt=int((wt/100)*36)\n",
    "    \n",
    "    logo=cv.resize(logo,(logo_wt,logo_ht))\n",
    "    img[margin_top:logo_ht+margin_top,margin_left:logo_wt+margin_left]=logo\n",
    "    \n",
    "    cv.imshow(\"logo\",img)\n",
    "    key=cv.waitKey(1)\n",
    "    if(key==27):\n",
    "        cam.release()\n",
    "        break\n",
    "    "
   ]
  },
  {
   "cell_type": "markdown",
   "id": "5d3943aa",
   "metadata": {},
   "source": [
    "## Bottom-Right\n",
    "Height(margin=52%,logo=47%,vacant=2%) width(margin=64%,logo=36%,vacant=1%)"
   ]
  },
  {
   "cell_type": "code",
   "execution_count": null,
   "id": "0718388a",
   "metadata": {},
   "outputs": [],
   "source": [
    "cam=cv.VideoCapture(0)\n",
    "logo=cv.imread('cricket_logo.jpeg')\n",
    "while True:\n",
    "    _,img=cam.read()\n",
    "    img=cv.flip(img,1)\n",
    "    \n",
    "    ht=img.shape[0]\n",
    "    wt=img.shape[1]\n",
    "    \n",
    "    margin_top=int((ht/100)*52)\n",
    "    logo_ht=int((ht/100)*47)\n",
    "    margin_left=int((wt/100)*64)\n",
    "    logo_wt=int((wt/100)*36)\n",
    "    \n",
    "    logo=cv.resize(logo,(logo_wt,logo_ht))\n",
    "    img[margin_top:logo_ht+margin_top,margin_left:logo_wt+margin_left]=logo\n",
    "    \n",
    "    cv.imshow(\"logo\",img)\n",
    "    key=cv.waitKey(1)\n",
    "    if(key==27):\n",
    "        cam.release()\n",
    "        break\n",
    "    "
   ]
  },
  {
   "cell_type": "markdown",
   "id": "20669d51",
   "metadata": {},
   "source": [
    "## All Direction Fit"
   ]
  },
  {
   "cell_type": "code",
   "execution_count": null,
   "id": "f9a0f1bc",
   "metadata": {},
   "outputs": [],
   "source": [
    "cam=cv.VideoCapture(0)\n",
    "logo=cv.imread('cricket_logo.jpeg')\n",
    "while True:\n",
    "    _,img=cam.read()\n",
    "    img=cv.flip(img,1)\n",
    "    \n",
    "    ht=img.shape[0]\n",
    "    wt=img.shape[1]\n",
    "    \n",
    "    #Bottom Right\n",
    "    margin_top=int((ht/100)*52)\n",
    "    logo_ht=int((ht/100)*47)\n",
    "    margin_left=int((wt/100)*1)\n",
    "    logo_wt=int((wt/100)*36)\n",
    "    logo=cv.resize(logo,(logo_wt,logo_ht))\n",
    "    img[margin_top:logo_ht+margin_top,margin_left:logo_wt+margin_left]=logo\n",
    "    \n",
    "    #Bottom Left\n",
    "    margin_top=int((ht/100)*52)\n",
    "    logo_ht=int((ht/100)*47)\n",
    "    margin_left=int((wt/100)*64)\n",
    "    logo_wt=int((wt/100)*36)\n",
    "    logo=cv.resize(logo,(logo_wt,logo_ht))\n",
    "    img[margin_top:logo_ht+margin_top,margin_left:logo_wt+margin_left]=logo\n",
    "    \n",
    "    \n",
    "    #Top Left\n",
    "    margin_top=int((ht/100)*2)\n",
    "    logo_ht=int((ht/100)*47)\n",
    "    margin_left=int((wt/100)*1)\n",
    "    logo_wt=int((wt/100)*36)\n",
    "    logo=cv.resize(logo,(logo_wt,logo_ht))\n",
    "    img[margin_top:logo_ht+margin_top,margin_left:logo_wt+margin_left]=logo\n",
    "    \n",
    "    #Top Right\n",
    "    margin_top=int((ht/100)*2)\n",
    "    logo_ht=int((ht/100)*47)\n",
    "    margin_left=int((wt/100)*64)\n",
    "    logo_wt=int((wt/100)*36)\n",
    "    logo=cv.resize(logo,(logo_wt,logo_ht))\n",
    "    img[margin_top:logo_ht+margin_top,margin_left:logo_wt+margin_left]=logo\n",
    "    \n",
    "    \n",
    "    cv.imshow(\"logo\",img)\n",
    "    key=cv.waitKey(1)\n",
    "    if(key==27):\n",
    "        cam.release()\n",
    "        break\n",
    "    "
   ]
  },
  {
   "cell_type": "markdown",
   "id": "2c09c463",
   "metadata": {},
   "source": [
    "## Dynamic Fit for A Logo"
   ]
  },
  {
   "cell_type": "code",
   "execution_count": null,
   "id": "f27aebe2",
   "metadata": {},
   "outputs": [],
   "source": [
    "import cv2 as cv\n",
    "import numpy as np\n",
    " \n",
    "cam = cv.VideoCapture(0)\n",
    "\n",
    "logo=cv.imread('cricket_logo.jpeg')\n",
    "\n",
    "r = 640\n",
    "\n",
    "while True:\n",
    "    \n",
    "    logo=cv.imread('cricket_logo.jpeg')\n",
    "    _, img = cam.read()\n",
    "\n",
    "    img = cv.flip(img,1)\n",
    "    \n",
    "    img = img[ : , :r  ]\n",
    "    \n",
    "#     img = cv.resize(img, (720,720))\n",
    "    \n",
    "    ht = img.shape[0]\n",
    "    wt = img.shape[1]\n",
    "    \n",
    "    margin_top  = int((ht/100)*2)             # 1%\n",
    "    logo_height = int((ht/100)*47)         # 7%\n",
    "    \n",
    "    margin_left = int((wt/100)*64)      # 95.5%\n",
    "    logo_width  = int((wt/100)*36)         # 4%\n",
    "    \n",
    "    side = min(logo_width,logo_height)\n",
    "    logo = cv.resize(logo, (side, side))\n",
    "    \n",
    "    img[ margin_top : side + margin_top , margin_left : margin_left + side ] = logo\n",
    "\n",
    "    cv.imshow('Frame'  , img)\n",
    "    \n",
    "    if (cv.waitKey(1) == 115):\n",
    "        r -= 10\n",
    "    \n",
    "    elif (cv.waitKey(1) == 119):\n",
    "        r += 10\n",
    "    \n",
    "    elif cv.waitKey(1) == 27:\n",
    "        cam.release()\n",
    "        break"
   ]
  },
  {
   "cell_type": "markdown",
   "id": "548edeea",
   "metadata": {},
   "source": [
    "## Final Fit for a Logo"
   ]
  },
  {
   "cell_type": "code",
   "execution_count": null,
   "id": "ee08d058",
   "metadata": {},
   "outputs": [],
   "source": [
    "import cv2 as cv\n",
    "import numpy as np\n",
    " \n",
    "cam = cv.VideoCapture(0)\n",
    "\n",
    "logo=cv.imread('cricket_logo.jpeg')\n",
    "\n",
    "scale_factor=1.0\n",
    "\n",
    "while True:\n",
    "    \n",
    "    logo=cv.imread('cricket_logo.jpeg')\n",
    "    _, img = cam.read()\n",
    "\n",
    "    img = cv.flip(img,1)\n",
    "    \n",
    "    \n",
    "    img = cv.resize(img, (int(img.shape[1]*scale_factor),int(img.shape[0]*scale_factor)))\n",
    "    \n",
    "    ht = img.shape[0]\n",
    "    wt = img.shape[1]\n",
    "    \n",
    "    margin_top  = int((ht/100)*2)             \n",
    "    logo_height = int((ht/100)*47)         \n",
    "    \n",
    "    margin_left = int((wt/100)*64)      \n",
    "    logo_width  = int((wt/100)*36)        \n",
    "    \n",
    "    side = min(logo_width,logo_height)\n",
    "    logo = cv.resize(logo, (side, side))\n",
    "    \n",
    "    img[ margin_top : side + margin_top , margin_left : margin_left + side ] = logo\n",
    "\n",
    "    cv.imshow('Frame'  , img)\n",
    "    cv.imshow('final'  , final)\n",
    "    \n",
    "    if (cv.waitKey(1) == 115):\n",
    "        scale_factor -= .1\n",
    "    \n",
    "    elif (cv.waitKey(1) == 119):\n",
    "        scale_factor += .1\n",
    "    \n",
    "    elif cv.waitKey(1) == 27:\n",
    "        cam.release()\n",
    "        break"
   ]
  },
  {
   "cell_type": "markdown",
   "id": "e2f81822",
   "metadata": {},
   "source": [
    "## Adding Transparency to a Logo"
   ]
  },
  {
   "cell_type": "code",
   "execution_count": null,
   "id": "a1a817c7",
   "metadata": {},
   "outputs": [],
   "source": [
    "import cv2 as cv\n",
    "import numpy as np\n",
    " \n",
    "cam = cv.VideoCapture(0)\n",
    "\n",
    "logo=cv.imread('cricket_logo.jpeg')\n",
    "\n",
    "scale_factor=1.0\n",
    "\n",
    "while True:\n",
    "    \n",
    "    logo=cv.imread('cricket_logo.jpeg')\n",
    "    _, img = cam.read()\n",
    "\n",
    "    img = cv.flip(img,1)\n",
    "    \n",
    "    \n",
    "    img = cv.resize(img, (int(img.shape[1]*scale_factor),int(img.shape[0]*scale_factor)))\n",
    "    \n",
    "    ht = img.shape[0]\n",
    "    wt = img.shape[1]\n",
    "    \n",
    "    margin_top  = int((ht/100)*2)             \n",
    "    logo_height = int((ht/100)*47)         \n",
    "    \n",
    "    margin_left = int((wt/100)*64)      \n",
    "    logo_width  = int((wt/100)*36)        \n",
    "    \n",
    "    side = min(logo_width,logo_height)\n",
    "    bg=img[ margin_top : side + margin_top , margin_left : margin_left + side ].copy()\n",
    "    \n",
    "    logo = cv.resize(logo, (side, side))\n",
    "    \n",
    "    final=cv.addWeighted(bg,.45,logo,.55,0)\n",
    "    \n",
    "    img[ margin_top : side + margin_top , margin_left : margin_left + side ] = final\n",
    "\n",
    "    cv.imshow('Frame'  , img)\n",
    "    \n",
    "    if (cv.waitKey(1) == 115):\n",
    "        scale_factor -= .1\n",
    "    \n",
    "    elif (cv.waitKey(1) == 119):\n",
    "        scale_factor += .1\n",
    "    \n",
    "    elif cv.waitKey(1) == 27:\n",
    "        cam.release()\n",
    "        break"
   ]
  },
  {
   "cell_type": "code",
   "execution_count": null,
   "id": "c6bb68f5",
   "metadata": {},
   "outputs": [],
   "source": []
  }
 ],
 "metadata": {
  "kernelspec": {
   "display_name": "Python 3 (ipykernel)",
   "language": "python",
   "name": "python3"
  },
  "language_info": {
   "codemirror_mode": {
    "name": "ipython",
    "version": 3
   },
   "file_extension": ".py",
   "mimetype": "text/x-python",
   "name": "python",
   "nbconvert_exporter": "python",
   "pygments_lexer": "ipython3",
   "version": "3.11.5"
  }
 },
 "nbformat": 4,
 "nbformat_minor": 5
}
