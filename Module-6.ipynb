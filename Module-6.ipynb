{
 "cells": [
  {
   "cell_type": "code",
   "execution_count": 1,
   "id": "d3a90107",
   "metadata": {},
   "outputs": [],
   "source": [
    "import numpy as np\n",
    "import matplotlib.pyplot as plt\n",
    "import cv2 as cv"
   ]
  },
  {
   "cell_type": "markdown",
   "id": "6cb1a1eb",
   "metadata": {},
   "source": [
    "## Brightness Control"
   ]
  },
  {
   "cell_type": "code",
   "execution_count": null,
   "id": "296de1c9",
   "metadata": {},
   "outputs": [],
   "source": [
    "cam=cv.VideoCapture(0)\n",
    "while True:\n",
    "    _,img=cam.read()\n",
    "    img=cv.flip(img,1)\n",
    "    img1=img-20 # reducing 20 pixels from image\n",
    "    \n",
    "    cv.imshow('original',img)\n",
    "    cv.imshow('img1',img1)\n",
    "    \n",
    "    key=cv.waitKey(1)\n",
    "    if(key==27):\n",
    "        cam.release()\n",
    "        break"
   ]
  },
  {
   "cell_type": "code",
   "execution_count": null,
   "id": "0b1aa952",
   "metadata": {},
   "outputs": [],
   "source": [
    "cam=cv.VideoCapture(0)\n",
    "while True:\n",
    "    _,img=cam.read()\n",
    "    img=cv.flip(img,1)\n",
    "    img1=img -60 # reducing 20 pixels from image\n",
    "    \n",
    "    img1[img1<0]=0\n",
    "    img1[img1>255]=255\n",
    "    \n",
    "    img1=img1.astype(np.uint8)\n",
    "    \n",
    "    cv.imshow('original',img)\n",
    "    cv.imshow('img1',img1)\n",
    "    \n",
    "    key=cv.waitKey(1)\n",
    "    if(key==27):\n",
    "        cam.release()\n",
    "        break"
   ]
  },
  {
   "cell_type": "markdown",
   "id": "df56a920",
   "metadata": {},
   "source": [
    "## Adjusting Warmth and Coolness of Videos"
   ]
  },
  {
   "cell_type": "code",
   "execution_count": 2,
   "id": "44f451bd",
   "metadata": {},
   "outputs": [],
   "source": [
    "# first we need to create blue image\n",
    "blue=[247,206,139]\n",
    "blue_background=[]\n",
    "for i in range(480):\n",
    "    temp=[]\n",
    "    for j in range(640):\n",
    "        temp.append(blue)\n",
    "    blue_background.append(temp)\n",
    "blue_background=np.array(blue_background).astype(np.uint8)"
   ]
  },
  {
   "cell_type": "markdown",
   "id": "ce5a76b4",
   "metadata": {},
   "source": [
    "## Adding coolness"
   ]
  },
  {
   "cell_type": "code",
   "execution_count": null,
   "id": "0a611e05",
   "metadata": {},
   "outputs": [],
   "source": [
    "cam=cv.VideoCapture(0)\n",
    "while True:\n",
    "    _,img=cam.read()\n",
    "    img=cv.flip(img,1)\n",
    "    img=np.array(img).astype(np.uint8)\n",
    "    \n",
    "    merged=cv.addWeighted(img,.5,background,.5,0)\n",
    "    cv.imshow('original',img)\n",
    "    cv.imshow('merged',merged)\n",
    "    \n",
    "    key=cv.waitKey(1)\n",
    "    \n",
    "    if(key==27):\n",
    "        cam.release()\n",
    "        break"
   ]
  },
  {
   "cell_type": "code",
   "execution_count": 12,
   "id": "ffdf7fbb",
   "metadata": {},
   "outputs": [
    {
     "data": {
      "text/plain": [
       "(480, 640, 3)"
      ]
     },
     "execution_count": 12,
     "metadata": {},
     "output_type": "execute_result"
    }
   ],
   "source": [
    "background.shape"
   ]
  },
  {
   "cell_type": "markdown",
   "id": "91101d22",
   "metadata": {},
   "source": [
    "## Adding warmness"
   ]
  },
  {
   "cell_type": "code",
   "execution_count": 3,
   "id": "7663dc4e",
   "metadata": {},
   "outputs": [],
   "source": [
    "# first we need to create yellow image\n",
    "yellow=[108,222,249]\n",
    "yellow_background=[]\n",
    "for i in range(480):\n",
    "    temp=[]\n",
    "    for j in range(640):\n",
    "        temp.append(yellow)\n",
    "    yellow_background.append(temp)\n",
    "yellow_background=np.array(yellow_background).astype(np.uint8)"
   ]
  },
  {
   "cell_type": "code",
   "execution_count": null,
   "id": "4226b3d4",
   "metadata": {},
   "outputs": [],
   "source": [
    "cam=cv.VideoCapture(0)\n",
    "while True:\n",
    "    _,img=cam.read()\n",
    "    img=cv.flip(img,1)\n",
    "    img=np.array(img).astype(np.uint8)\n",
    "    \n",
    "    merged=cv.addWeighted(img,.5,background,.5,0)\n",
    "    cv.imshow('original',img)\n",
    "    cv.imshow('merged',merged)\n",
    "    \n",
    "    key=cv.waitKey(1)\n",
    "    \n",
    "    if(key==27):\n",
    "        cam.release()\n",
    "        break"
   ]
  },
  {
   "cell_type": "markdown",
   "id": "593cdac0",
   "metadata": {},
   "source": [
    "## Merged"
   ]
  },
  {
   "cell_type": "code",
   "execution_count": null,
   "id": "467c5235",
   "metadata": {},
   "outputs": [],
   "source": [
    "cam=cv.VideoCapture(0)\n",
    "while True:\n",
    "    _,img=cam.read()\n",
    "    img=cv.flip(img,1)\n",
    "    img=np.array(img).astype(np.uint8)\n",
    "    \n",
    "    merged=cv.addWeighted(img,.5,blue_background,.5,0)\n",
    "    merged1=cv.addWeighted(img,.5,yellow_background,.5,0)\n",
    "    cv.imshow('original',img)\n",
    "    cv.imshow('merged',merged)\n",
    "    cv.imshow('merged1',merged1)\n",
    "    \n",
    "    key=cv.waitKey(1)\n",
    "    \n",
    "    if(key==27):\n",
    "        cam.release()\n",
    "        break"
   ]
  },
  {
   "cell_type": "markdown",
   "id": "9c2e7b3a",
   "metadata": {},
   "source": [
    "## Adjusting Warmth and Coolness of a image"
   ]
  },
  {
   "cell_type": "code",
   "execution_count": 2,
   "id": "a4d0aa74",
   "metadata": {},
   "outputs": [],
   "source": [
    "img=cv.imread('paddy.jpeg')"
   ]
  },
  {
   "cell_type": "code",
   "execution_count": 3,
   "id": "ca4739c0",
   "metadata": {},
   "outputs": [
    {
     "data": {
      "text/plain": [
       "(192, 262, 3)"
      ]
     },
     "execution_count": 3,
     "metadata": {},
     "output_type": "execute_result"
    }
   ],
   "source": [
    "img.shape"
   ]
  },
  {
   "cell_type": "code",
   "execution_count": 4,
   "id": "8e2bd858",
   "metadata": {},
   "outputs": [],
   "source": [
    "# first we need to create blue image\n",
    "blue=[247,206,139]\n",
    "background=[]\n",
    "for i in range(192):\n",
    "    temp=[]\n",
    "    for j in range(262):\n",
    "        temp.append(blue)\n",
    "    background.append(temp)\n",
    "background=np.array(background).astype(np.uint8)"
   ]
  },
  {
   "cell_type": "code",
   "execution_count": null,
   "id": "f4c5b6ef",
   "metadata": {},
   "outputs": [],
   "source": [
    "final=cv.addWeighted(img,.5,background,.5,0)\n",
    "cv.imshow('final',final)\n",
    "cv.waitKey(0)"
   ]
  },
  {
   "cell_type": "markdown",
   "id": "ceb4fdd7",
   "metadata": {},
   "source": [
    "## Merging images"
   ]
  },
  {
   "cell_type": "code",
   "execution_count": 2,
   "id": "e954b050",
   "metadata": {},
   "outputs": [],
   "source": [
    "def merge(foreground_path, background_path, a, b):\n",
    "    \n",
    "    background = []\n",
    "\n",
    "    img        = cv.imread(foreground_path)\n",
    "    background = cv.imread(background_path)\n",
    "    \n",
    "#     background = cv.flip(background, 0)\n",
    "    \n",
    "    background = cv.resize(background, (img.shape[1], img.shape[0]))\n",
    "\n",
    "    final = cv.addWeighted(img, a, background, b , 0)\n",
    "\n",
    "    cv.imshow('Original',img)\n",
    "    cv.waitKey(0)\n",
    "\n",
    "    cv.imshow('Processed',final)\n",
    "    cv.waitKey(0)"
   ]
  },
  {
   "cell_type": "code",
   "execution_count": 3,
   "id": "3efeeabf",
   "metadata": {},
   "outputs": [],
   "source": [
    "merge('paddy.jpeg', 'network.png', .5, .5)"
   ]
  },
  {
   "cell_type": "code",
   "execution_count": null,
   "id": "d02e678e",
   "metadata": {},
   "outputs": [],
   "source": []
  }
 ],
 "metadata": {
  "kernelspec": {
   "display_name": "Python 3 (ipykernel)",
   "language": "python",
   "name": "python3"
  },
  "language_info": {
   "codemirror_mode": {
    "name": "ipython",
    "version": 3
   },
   "file_extension": ".py",
   "mimetype": "text/x-python",
   "name": "python",
   "nbconvert_exporter": "python",
   "pygments_lexer": "ipython3",
   "version": "3.11.5"
  }
 },
 "nbformat": 4,
 "nbformat_minor": 5
}
