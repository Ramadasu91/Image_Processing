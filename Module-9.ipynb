{
 "cells": [
  {
   "cell_type": "code",
   "execution_count": 1,
   "id": "f7fc0abc",
   "metadata": {},
   "outputs": [],
   "source": [
    "import numpy as np\n",
    "import cv2 as cv"
   ]
  },
  {
   "cell_type": "markdown",
   "id": "27111254",
   "metadata": {},
   "source": [
    "## Detecting Face using Haar-Cascade Classifier"
   ]
  },
  {
   "cell_type": "code",
   "execution_count": null,
   "id": "b341d236",
   "metadata": {},
   "outputs": [],
   "source": [
    "classifier=cv.CascadeClassifier('haarcascade_frontalface_default.xml')\n",
    "cam=cv.VideoCapture(0)\n",
    "while True:\n",
    "    _,img=cam.read()\n",
    "    img=cv.flip(img,1)\n",
    "    try:\n",
    "        face=classifier.detectMultiScale(img,1.1,5)\n",
    "        for(x,y,w,h) in face:\n",
    "            cv.rectangle(img,(x,y),(x+w,y+h),(45,145,0),3)\n",
    "    except:\n",
    "        pass\n",
    "    \n",
    "    cv.imshow('img',img)\n",
    "    \n",
    "    if cv.waitKey(1)==27:\n",
    "        cam.release()\n",
    "        break"
   ]
  },
  {
   "cell_type": "markdown",
   "id": "81bb63c6",
   "metadata": {},
   "source": [
    "## cropping faces using Haar-Cascade"
   ]
  },
  {
   "cell_type": "code",
   "execution_count": null,
   "id": "499e1870",
   "metadata": {},
   "outputs": [],
   "source": [
    "classifier=cv.CascadeClassifier('haarcascade_frontalface_default.xml')\n",
    "cam=cv.VideoCapture(0)\n",
    "while True:\n",
    "    _,img=cam.read()\n",
    "    img=cv.flip(img,1)\n",
    "    try:\n",
    "        faces=classifier.detectMultiScale(img,1.1,5)\n",
    "        for f in faces:\n",
    "            if f[-1]==max(faces[:,-1]):\n",
    "                break\n",
    "        if len(faces)>=1:\n",
    "            x=f[0]\n",
    "            y=f[1]\n",
    "            w=f[2]\n",
    "            h=f[3]\n",
    "            \n",
    "        cv.rectangle(img,(x,y),(x+w,y+h),(45,145,0),3)\n",
    "        face=img[y:y+h,x:x+w]\n",
    "    except:\n",
    "        pass\n",
    "    \n",
    "    cv.imshow('img',img)\n",
    "    cv.imshow('cropped_face',face)\n",
    "    \n",
    "    if cv.waitKey(1)==27:\n",
    "        cam.release()\n",
    "        break"
   ]
  },
  {
   "cell_type": "markdown",
   "id": "649efe55",
   "metadata": {},
   "source": [
    "## Blurring an face"
   ]
  },
  {
   "cell_type": "code",
   "execution_count": 2,
   "id": "0af6fdb6",
   "metadata": {},
   "outputs": [
    {
     "ename": "NameError",
     "evalue": "name 'face' is not defined",
     "output_type": "error",
     "traceback": [
      "\u001b[1;31m---------------------------------------------------------------------------\u001b[0m",
      "\u001b[1;31mNameError\u001b[0m                                 Traceback (most recent call last)",
      "Cell \u001b[1;32mIn[2], line 30\u001b[0m\n\u001b[0;32m     26\u001b[0m     img[y:y\u001b[38;5;241m+\u001b[39mh, x:x\u001b[38;5;241m+\u001b[39mw] \u001b[38;5;241m=\u001b[39m face                 \u001b[38;5;66;03m# Apply Blured Face on Video Feed\u001b[39;00m\n\u001b[0;32m     29\u001b[0m cv\u001b[38;5;241m.\u001b[39mimshow(\u001b[38;5;124m'\u001b[39m\u001b[38;5;124mFrame\u001b[39m\u001b[38;5;124m'\u001b[39m  , img )\n\u001b[1;32m---> 30\u001b[0m cv\u001b[38;5;241m.\u001b[39mimshow(\u001b[38;5;124m'\u001b[39m\u001b[38;5;124mFace\u001b[39m\u001b[38;5;124m'\u001b[39m   , face)\n\u001b[0;32m     32\u001b[0m \u001b[38;5;28;01mif\u001b[39;00m cv\u001b[38;5;241m.\u001b[39mwaitKey(\u001b[38;5;241m1\u001b[39m) \u001b[38;5;241m==\u001b[39m \u001b[38;5;241m27\u001b[39m:\n\u001b[0;32m     33\u001b[0m     cam\u001b[38;5;241m.\u001b[39mrelease()\n",
      "\u001b[1;31mNameError\u001b[0m: name 'face' is not defined"
     ]
    }
   ],
   "source": [
    "classifier=cv.CascadeClassifier('haarcascade_frontalface_default.xml')\n",
    "cam=cv.VideoCapture(0)\n",
    "while True:\n",
    "    _,img=cam.read()\n",
    "    img=cv.flip(img,1)\n",
    "    try:\n",
    "        faces=classifier.detectMultiScale(img,1.1,5)\n",
    "        for f in faces:\n",
    "            if f[-1]==max(faces[:,-1]):\n",
    "                break\n",
    "        if len(faces)>=1:\n",
    "            x=f[0]\n",
    "            y=f[1]\n",
    "            w=f[2]\n",
    "            h=f[3]\n",
    "            \n",
    "        cv.rectangle(img,(x,y),(x+w,y+h),(45,145,0),3)\n",
    "        \n",
    "        face=img[y:y+h,x:x+w]\n",
    "        \n",
    "        face=cv.blur(face,(16,16))\n",
    "        img[y:y+h,x:x+w]=face\n",
    "        \n",
    "    except:\n",
    "        pass\n",
    "    \n",
    "    cv.imshow('img',img)\n",
    "    cv.imshow('cropped_face',face)\n",
    "    \n",
    "    if cv.waitKey(1)==27:\n",
    "        cam.release()\n",
    "        break"
   ]
  },
  {
   "cell_type": "markdown",
   "id": "79dca7f4",
   "metadata": {},
   "source": [
    "## Applying Black Shade inplace of Face"
   ]
  },
  {
   "cell_type": "code",
   "execution_count": null,
   "id": "c0833065",
   "metadata": {},
   "outputs": [],
   "source": [
    "classifier=cv.CascadeClassifier('haarcascade_frontalface_default.xml')\n",
    "cam=cv.VideoCapture(0)\n",
    "while True:\n",
    "    _,img=cam.read()\n",
    "    img=cv.flip(img,1)\n",
    "    try:\n",
    "        faces=classifier.detectMultiScale(img,1.1,5)\n",
    "        for f in faces:\n",
    "            if f[-1]==max(faces[:,-1]):\n",
    "                break\n",
    "        if len(faces)>=1:\n",
    "            x=f[0]\n",
    "            y=f[1]\n",
    "            w=f[2]\n",
    "            h=f[3]\n",
    "            \n",
    "        cv.rectangle(img,(x,y),(x+w,y+h),(45,145,0),3)\n",
    "        \n",
    "        face=img[y:y+h,x:x+w]\n",
    "        \n",
    "        black=np.zeros((face.shape),dtype=int)\n",
    "        img[y:y+h,x:x+w]=black\n",
    "        \n",
    "    except:\n",
    "        pass\n",
    "    \n",
    "    cv.imshow('img',img)\n",
    "    \n",
    "    if cv.waitKey(1)==27:\n",
    "        cam.release()\n",
    "        break"
   ]
  },
  {
   "cell_type": "markdown",
   "id": "bb6ab3f5",
   "metadata": {},
   "source": [
    "## Applying Circle inplace of Face"
   ]
  },
  {
   "cell_type": "code",
   "execution_count": null,
   "id": "d2643633",
   "metadata": {},
   "outputs": [],
   "source": [
    "classifier=cv.CascadeClassifier('haarcascade_frontalface_default.xml')\n",
    "cam=cv.VideoCapture(0)\n",
    "while True:\n",
    "    _,img=cam.read()\n",
    "    img=cv.flip(img,1)\n",
    "    try:\n",
    "        faces=classifier.detectMultiScale(img,1.1,5)\n",
    "        for f in faces:\n",
    "            if f[-1]==max(faces[:,-1]):\n",
    "                break\n",
    "        if len(faces)>=1:\n",
    "            x=f[0]\n",
    "            y=f[1]\n",
    "            w=f[2]\n",
    "            h=f[3]\n",
    "        x_axis=x+int(w/2)\n",
    "        y_axis=y+int(h/2)\n",
    "        cv.circle(img,(x_axis,y_axis),100,(45,145,0),-1)\n",
    "        \n",
    "    except:\n",
    "        pass\n",
    "    \n",
    "    cv.imshow('img',img)\n",
    "    \n",
    "    if cv.waitKey(1)==27:\n",
    "        cam.release()\n",
    "        break"
   ]
  },
  {
   "cell_type": "code",
   "execution_count": null,
   "id": "896bb962",
   "metadata": {},
   "outputs": [],
   "source": []
  }
 ],
 "metadata": {
  "kernelspec": {
   "display_name": "Python 3 (ipykernel)",
   "language": "python",
   "name": "python3"
  },
  "language_info": {
   "codemirror_mode": {
    "name": "ipython",
    "version": 3
   },
   "file_extension": ".py",
   "mimetype": "text/x-python",
   "name": "python",
   "nbconvert_exporter": "python",
   "pygments_lexer": "ipython3",
   "version": "3.11.5"
  }
 },
 "nbformat": 4,
 "nbformat_minor": 5
}
