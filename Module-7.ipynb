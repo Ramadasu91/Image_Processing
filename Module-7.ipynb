{
 "cells": [
  {
   "cell_type": "code",
   "execution_count": 1,
   "id": "d5445cfe",
   "metadata": {},
   "outputs": [],
   "source": [
    "import numpy as np\n",
    "import pandas as pd\n",
    "import matplotlib.pyplot as plt\n",
    "import cv2 as cv"
   ]
  },
  {
   "cell_type": "markdown",
   "id": "01a4e656",
   "metadata": {},
   "source": [
    "## Thresholding on a Grayscale image"
   ]
  },
  {
   "cell_type": "code",
   "execution_count": 5,
   "id": "dc3a97cd",
   "metadata": {},
   "outputs": [],
   "source": [
    "cam=cv.VideoCapture(0)\n",
    "while True:\n",
    "    _,img=cam.read()\n",
    "    img=cv.flip(img,1)\n",
    "    gray=cv.cvtColor(img,cv.COLOR_BGR2GRAY)\n",
    "    gray_thr1=gray.copy()\n",
    "    gray_thr1[gray_thr1>127]=255\n",
    "    \n",
    "    cv.imshow(\"normal\",img)\n",
    "    cv.imshow(\"thresh\",gray_thr1)\n",
    "    \n",
    "    key=cv.waitKey(1)\n",
    "    if(key==27):\n",
    "        break\n",
    "cam.release()"
   ]
  },
  {
   "cell_type": "markdown",
   "id": "2fbf662f",
   "metadata": {},
   "source": [
    "## Color Masking on Videos"
   ]
  },
  {
   "cell_type": "code",
   "execution_count": null,
   "id": "46d8e2c5",
   "metadata": {},
   "outputs": [],
   "source": [
    "lower=np.array([0,0,0])\n",
    "upper=np.array([100,100,100])\n",
    "\n",
    "cam=cv.VideoCapture(0)\n",
    "while True:\n",
    "    _,img=cam.read()\n",
    "    img=cv.flip(img,1)\n",
    "    mask=cv.inRange(img,lower,upper)\n",
    "    \n",
    "    cv.imshow(\"normal\",img)\n",
    "    cv.imshow(\"mask\",mask)\n",
    "    \n",
    "    key=cv.waitKey(1)\n",
    "    if(key==27):\n",
    "        break\n",
    "cam.release()"
   ]
  },
  {
   "cell_type": "markdown",
   "id": "b311ee60",
   "metadata": {},
   "source": [
    "## Color Masking on Videos with Blur"
   ]
  },
  {
   "cell_type": "code",
   "execution_count": null,
   "id": "b9e4c5ed",
   "metadata": {},
   "outputs": [],
   "source": [
    "lower=np.array([0,0,0])\n",
    "upper=np.array([100,100,100])\n",
    "\n",
    "cam=cv.VideoCapture(0)\n",
    "while True:\n",
    "    _,img=cam.read()\n",
    "    img=cv.flip(img,1)\n",
    "    mask=cv.blur(img,(4,4))\n",
    "    mask=cv.inRange(img,lower,upper)\n",
    "    \n",
    "    cv.imshow(\"normal\",img)\n",
    "    cv.imshow(\"mask\",mask)\n",
    "    \n",
    "    key=cv.waitKey(1)\n",
    "    if(key==27):\n",
    "        break\n",
    "cam.release()"
   ]
  },
  {
   "cell_type": "markdown",
   "id": "d537da21",
   "metadata": {},
   "source": [
    "## Color Masking on images"
   ]
  },
  {
   "cell_type": "code",
   "execution_count": 2,
   "id": "7e03780f",
   "metadata": {},
   "outputs": [],
   "source": [
    "img=cv.imread(\"paddy.jpeg\")"
   ]
  },
  {
   "cell_type": "code",
   "execution_count": 3,
   "id": "21a149f1",
   "metadata": {},
   "outputs": [
    {
     "data": {
      "text/plain": [
       "27"
      ]
     },
     "execution_count": 3,
     "metadata": {},
     "output_type": "execute_result"
    }
   ],
   "source": [
    "lower=np.array([0,0,0])\n",
    "upper=np.array([100,100,100])\n",
    "\n",
    "mask=cv.blur(img,(4,4))\n",
    "mask=cv.inRange(mask,lower,upper)\n",
    "cv.imshow('masked',mask)\n",
    "cv.imshow('normal',img)\n",
    "cv.waitKey(0)"
   ]
  },
  {
   "cell_type": "code",
   "execution_count": null,
   "id": "ca5d331d",
   "metadata": {},
   "outputs": [],
   "source": []
  }
 ],
 "metadata": {
  "kernelspec": {
   "display_name": "Python 3 (ipykernel)",
   "language": "python",
   "name": "python3"
  },
  "language_info": {
   "codemirror_mode": {
    "name": "ipython",
    "version": 3
   },
   "file_extension": ".py",
   "mimetype": "text/x-python",
   "name": "python",
   "nbconvert_exporter": "python",
   "pygments_lexer": "ipython3",
   "version": "3.11.5"
  }
 },
 "nbformat": 4,
 "nbformat_minor": 5
}
