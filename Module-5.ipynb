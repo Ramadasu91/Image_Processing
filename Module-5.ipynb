{
 "cells": [
  {
   "cell_type": "code",
   "execution_count": 1,
   "id": "3fd6d7c4",
   "metadata": {},
   "outputs": [],
   "source": [
    "import numpy as np\n",
    "import pandas as pd\n",
    "import matplotlib.pyplot as plt\n",
    "import cv2 as cv"
   ]
  },
  {
   "cell_type": "markdown",
   "id": "24cd6949",
   "metadata": {},
   "source": [
    "## Drawing a Rectangle"
   ]
  },
  {
   "cell_type": "code",
   "execution_count": null,
   "id": "96f89229",
   "metadata": {},
   "outputs": [],
   "source": [
    "cam=cv.VideoCapture(0)\n",
    "while True:\n",
    "    _,img=cam.read()\n",
    "    \n",
    "    img=cv.flip(img,1)\n",
    "    img=cv.rectangle(img,(150,120),(430,430),(154,126,55),5)\n",
    "    cv.imshow('Rectangle',img)\n",
    "    key=cv.waitKey(1)\n",
    "    if(key==27):\n",
    "        break\n",
    "cam.release()\n",
    "cv.destroyAllWindows()"
   ]
  },
  {
   "cell_type": "markdown",
   "id": "42f740d2",
   "metadata": {},
   "source": [
    "## Drawing a Circle"
   ]
  },
  {
   "cell_type": "code",
   "execution_count": null,
   "id": "e241a492",
   "metadata": {},
   "outputs": [],
   "source": [
    "cam=cv.VideoCapture(0)\n",
    "while True:\n",
    "    _,img=cam.read()\n",
    "    \n",
    "    img=cv.flip(img,1)\n",
    "    img=cv.circle(img,(320,160),100,(154,126,55),5)\n",
    "    cv.imshow('circle',img)\n",
    "    key=cv.waitKey(1)\n",
    "    if(key==27):\n",
    "        break\n",
    "cam.release()\n",
    "cv.destroyAllWindows()"
   ]
  },
  {
   "cell_type": "markdown",
   "id": "b4a54ef4",
   "metadata": {},
   "source": [
    "## Writing Text on live Video"
   ]
  },
  {
   "cell_type": "code",
   "execution_count": null,
   "id": "88b5d9b2",
   "metadata": {},
   "outputs": [],
   "source": [
    "cam=cv.VideoCapture(0)\n",
    "while True:\n",
    "    _,img=cam.read()\n",
    "    \n",
    "    img=cv.flip(img,1)\n",
    "    img=cv.putText(img,'RamTej',(250,160),cv.FONT_HERSHEY_PLAIN,4,(154,126,55),5)\n",
    "    cv.imshow('text',img)\n",
    "    key=cv.waitKey(1)\n",
    "    if(key==27):\n",
    "        break\n",
    "cam.release()\n",
    "cv.destroyAllWindows()"
   ]
  },
  {
   "cell_type": "markdown",
   "id": "4623e1e1",
   "metadata": {},
   "source": [
    "## Edge Detection using OpenCv"
   ]
  },
  {
   "cell_type": "code",
   "execution_count": null,
   "id": "ef38a2aa",
   "metadata": {},
   "outputs": [],
   "source": [
    "cam=cv.VideoCapture(0)\n",
    "while True:\n",
    "    _,img=cam.read()\n",
    "    \n",
    "    img=cv.flip(img,1)\n",
    "    edge=cv.Canny(img,70,150)\n",
    "    cv.imshow('frame',img)\n",
    "    cv.imshow('edge',edge)\n",
    "    key=cv.waitKey(1)\n",
    "    if(key==27):\n",
    "        break\n",
    "cam.release()\n",
    "cv.destroyAllWindows()"
   ]
  },
  {
   "cell_type": "markdown",
   "id": "5160a672",
   "metadata": {},
   "source": [
    "## Bluring an Image"
   ]
  },
  {
   "cell_type": "code",
   "execution_count": null,
   "id": "53f492ad",
   "metadata": {},
   "outputs": [],
   "source": [
    "cam=cv.VideoCapture(0)\n",
    "while True:\n",
    "    _,img=cam.read()\n",
    "    \n",
    "    img=cv.flip(img,1)\n",
    "    blur=cv.blur(img,(5,5))\n",
    "    cv.imshow('frame',img)\n",
    "    cv.imshow('blur',blur)\n",
    "    cv.imshow('edge',edge)\n",
    "    key=cv.waitKey(1)\n",
    "    if(key==27):\n",
    "        break\n",
    "cam.release()\n",
    "cv.destroyAllWindows()"
   ]
  },
  {
   "cell_type": "markdown",
   "id": "5699054c",
   "metadata": {},
   "source": [
    "## Edge Datection with Blur in OpenCv"
   ]
  },
  {
   "cell_type": "code",
   "execution_count": null,
   "id": "be1e30b2",
   "metadata": {},
   "outputs": [],
   "source": [
    "cam=cv.VideoCapture(0)\n",
    "while True:\n",
    "    _,img=cam.read()\n",
    "    \n",
    "    img=cv.flip(img,1)\n",
    "    blur=cv.blur(img,(3,3))\n",
    "    final=cv.Canny(blur,70,150)\n",
    "    cv.imshow('frame',img)\n",
    "    cv.imshow('blur',blur)\n",
    "    cv.imshow('final',final)\n",
    "    key=cv.waitKey(1)\n",
    "    if(key==27):\n",
    "        break\n",
    "cam.release()\n",
    "cv.destroyAllWindows()"
   ]
  },
  {
   "cell_type": "markdown",
   "id": "f98d659d",
   "metadata": {},
   "source": [
    "## DOWN Scalling an Video"
   ]
  },
  {
   "cell_type": "code",
   "execution_count": null,
   "id": "807cbc77",
   "metadata": {},
   "outputs": [],
   "source": [
    "cam=cv.VideoCapture(0)\n",
    "while True:\n",
    "    _,img=cam.read()\n",
    "    \n",
    "    img=cv.flip(img,1)\n",
    "    downscaled=cv.resize(img,(int(img.shape[1]/2),int(img.shape[0]/2)))\n",
    "    cv.imshow('frame',img)\n",
    "    cv.imshow('DownScaled',downscaled)\n",
    "    key=cv.waitKey(1)\n",
    "    if(key==27):\n",
    "        break\n",
    "cam.release()\n",
    "cv.destroyAllWindows()"
   ]
  },
  {
   "cell_type": "markdown",
   "id": "a76ba444",
   "metadata": {},
   "source": [
    "## UpScaling a Video"
   ]
  },
  {
   "cell_type": "code",
   "execution_count": null,
   "id": "bc5d8c54",
   "metadata": {},
   "outputs": [],
   "source": [
    "cam=cv.VideoCapture(0)\n",
    "while True:\n",
    "    _,img=cam.read()\n",
    "    \n",
    "    img=cv.flip(img,1)\n",
    "    Upscaled=cv.resize(img,(int(img.shape[1]*2),int(img.shape[0]*2)))\n",
    "    cv.imshow('frame',img)\n",
    "    cv.imshow('UpScaled',Upscaled)\n",
    "    key=cv.waitKey(1)\n",
    "    if(key==27):\n",
    "        break\n",
    "cam.release()\n",
    "cv.destroyAllWindows()"
   ]
  },
  {
   "cell_type": "code",
   "execution_count": null,
   "id": "8b109dfa",
   "metadata": {},
   "outputs": [],
   "source": []
  }
 ],
 "metadata": {
  "kernelspec": {
   "display_name": "Python 3 (ipykernel)",
   "language": "python",
   "name": "python3"
  },
  "language_info": {
   "codemirror_mode": {
    "name": "ipython",
    "version": 3
   },
   "file_extension": ".py",
   "mimetype": "text/x-python",
   "name": "python",
   "nbconvert_exporter": "python",
   "pygments_lexer": "ipython3",
   "version": "3.11.5"
  }
 },
 "nbformat": 4,
 "nbformat_minor": 5
}
